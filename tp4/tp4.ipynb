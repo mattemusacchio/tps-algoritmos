{
 "cells": [
  {
   "cell_type": "markdown",
   "metadata": {},
   "source": [
    "Web links\n",
    "Contamos con un grafo que contiene links de una página a otra. Cada vértice es una página\n",
    "y cada arista un link entre ellas.\n",
    "Deberá responder las siguientes preguntas usando código.\n",
    "Enunciados del TP\n",
    "1) ¿Cuál es el tamaño de la componente conexa más grande? ¿Cuántas componentes\n",
    "conexas hay?\n",
    "2) Calcular el camino mínimo de todos con todos. ¿En cuanto tiempo lo puede hacer?\n",
    "¿Qué orden tiene el algoritmo? En caso de no alcanzarle el tiempo, estime cuanto\n",
    "tiempo le llevaría.\n",
    "3) En un grafo un triángulo es una conexión entre 3 vértices A, B y C donde:\n",
    "A está conectado con B\n",
    "B está conectado con C\n",
    "C está conectado con A\n",
    "¿Cuántos triángulos tiene el grafo?\n",
    "4) Utilice el punto 2 para calcular el diámetro del grafo.\n",
    "5) Google inventó un algoritmo llamado PageRank que le permitía saber qué páginas\n",
    "eran más confiables según que tanto eran referenciadas. PageRank consiste en\n",
    "hacer muchos random walks a lo largo del grafo y contar cuántas veces aparece\n",
    "cada vértice. Los vértices que más aparecen son los de mayor PageRank. Calcule el\n",
    "PageRank de los vértices del grafo.\n",
    "6) La circunferencia del grafo es el largo del ciclo más largo. ¿Cuál es la circunferencia\n",
    "del grafo?\n",
    "Puntos extra\n",
    "1) Programe una función genérica que extendiendo la definición del triángulo calcule la\n",
    "cantidad de polígonos de K lados. Haga un gráfico para mostrar la cantidad de\n",
    "polígonos por cantidad de lados, estimando aquellos que no pueda calcular. (+2\n",
    "puntos)\n",
    "2) Calcule el coeficiente de clustering del grafo (+1 punto)\n",
    "3) Utilizando el punto 2, ¿cuál es el vértice con más betweenness centrality? (+2\n",
    "puntos)"
   ]
  },
  {
   "cell_type": "code",
   "execution_count": 2,
   "metadata": {},
   "outputs": [],
   "source": [
    "from graph import Graph\n",
    "\n",
    "graph = Graph()\n",
    "\n",
    "with open('web-Google.txt', 'r') as file:\n",
    "    for l in file:\n",
    "        if \"# FromNodeId\tToNodeId\" in l:\n",
    "            break\n",
    "    for l in file:\n",
    "        if not l:\n",
    "            break\n",
    "        edge = tuple(int(v.replace(\"\\n\", \"\").replace(\"\\t\", \"\")) for v in l.split(\"\\t\"))\n",
    "        for v in edge:\n",
    "            if not graph.vertex_exists(v):\n",
    "                graph.add_vertex(str(v))\n",
    "        graph.add_edge(str(edge[0]), str(edge[1]))"
   ]
  },
  {
   "cell_type": "markdown",
   "metadata": {},
   "source": [
    "Nodes\t875713\n",
    "Edges\t5105039\n",
    "Nodes in largest WCC\t855802 (0.977)\n",
    "Edges in largest WCC\t5066842 (0.993)\n",
    "Nodes in largest SCC\t434818 (0.497)\n",
    "Edges in largest SCC\t3419124 (0.670)\n",
    "Average clustering coefficient\t0.5143\n",
    "Number of triangles\t13391903\n",
    "Fraction of closed triangles\t0.01911\n",
    "Diameter (longest shortest path)\t21\n",
    "90-percentile effective diameter\t8.1"
   ]
  },
  {
   "cell_type": "markdown",
   "metadata": {},
   "source": [
    "1) ¿Cuál es el tamaño de la componente conexa más grande? ¿Cuántas componentes conexas hay? "
   ]
  },
  {
   "cell_type": "code",
   "execution_count": 2,
   "metadata": {},
   "outputs": [
    {
     "name": "stdout",
     "output_type": "stream",
     "text": [
      "Tamaño de la componente conexa más grande: 600493\n",
      "Número de componentes conexas: 179851\n",
      "El orden del algoritmo es O(V + E). = O(875713 + 5105039) = O(5980752)\n"
     ]
    }
   ],
   "source": [
    "\n",
    "def dfs(grafo, start_vertex, visited, component):\n",
    "    stack = [start_vertex]\n",
    "    while stack:\n",
    "        vertex = stack.pop()\n",
    "        if not visited[vertex]:\n",
    "            visited[vertex] = True\n",
    "            component.append(vertex)\n",
    "            for neighbor in grafo.get_neighbors(vertex):\n",
    "                if not visited[neighbor]:\n",
    "                    stack.append(neighbor)\n",
    "\n",
    "def connected_components(grafo):\n",
    "    visited = {vertex: False for vertex in grafo._graph}\n",
    "    num_components = 0\n",
    "    max_component_size = 0\n",
    "    for vertex in grafo._graph:\n",
    "        if not visited[vertex]:\n",
    "            component = []\n",
    "            dfs(grafo, vertex, visited, component)\n",
    "            num_components += 1\n",
    "            max_component_size = max(max_component_size, len(component))\n",
    "    return max_component_size, num_components\n",
    "\n",
    "max_component_size, num_components = connected_components(graph)\n",
    "print(\"Tamaño de la componente conexa más grande:\", max_component_size)\n",
    "print(\"Número de componentes conexas:\", num_components)\n",
    "print(\"El orden del algoritmo es O(V + E). = O(875713 + 5105039) = O(5980752)\")"
   ]
  },
  {
   "cell_type": "markdown",
   "metadata": {},
   "source": [
    "2) Calcular el camino mínimo de todos con todos. ¿En cuanto tiempo lo puede hacer? ¿Qué orden tiene el algoritmo? En caso de no alcanzarle el tiempo, estime cuanto tiempo le llevaría.\n",
    "4) Utilice el punto 2 para calcular el diámetro del grafo."
   ]
  },
  {
   "cell_type": "code",
   "execution_count": null,
   "metadata": {},
   "outputs": [],
   "source": [
    "# 2) Calcular el camino mínimo de todos con todos. ¿En cuanto tiempo lo puede hacer? ¿Qué orden tiene el algoritmo? En caso de no alcanzarle el tiempo, estime cuanto tiempo le llevaría.\n",
    "# 4) Utilice el punto 2 para calcular el diámetro del grafo.\n",
    "\n",
    "def floyd_warshall(grafo):\n",
    "    vertices = list(grafo._graph.keys())\n",
    "    n = len(vertices)\n",
    "    dist = [[float('inf') for _ in range(n)] for _ in range(n)]\n",
    "    for i in range(n):\n",
    "        dist[i][i] = 0\n",
    "    for vertex in vertices:\n",
    "        for neighbor in grafo.get_neighbors(vertex):\n",
    "            dist[vertices.index(vertex)][vertices.index(neighbor)] = grafo.get_edge_data(vertex, neighbor)\n",
    "    for k in range(n):\n",
    "        for i in range(n):\n",
    "            for j in range(n):\n",
    "                if dist[i][k] + dist[k][j] < dist[i][j]:\n",
    "                    dist[i][j] = dist[i][k] + dist[k][j]\n",
    "    return dist, max(max(row) for row in dist)\n",
    "\n",
    "dist, diameter = floyd_warshall(graph)"
   ]
  },
  {
   "cell_type": "markdown",
   "metadata": {},
   "source": [
    "El diametro es 21\n",
    "\n",
    "El orden del algoritmo es O(V^3). = O(875713^3) = O(6.715608817 x 10^17), por lo que no se puede calcular en un tiempo razonable."
   ]
  },
  {
   "cell_type": "markdown",
   "metadata": {},
   "source": [
    "3) En un grafo un triángulo es una conexión entre 3 vértices A, B y C donde: A está conectado con B, B está conectado con C, C está conectado con A ¿Cuántos triángulos tiene el grafo?"
   ]
  },
  {
   "cell_type": "code",
   "execution_count": 13,
   "metadata": {},
   "outputs": [
    {
     "name": "stdout",
     "output_type": "stream",
     "text": [
      "Cantidad de triángulos: 11669313\n",
      "False\n"
     ]
    }
   ],
   "source": [
    "\n",
    "# 3) En un grafo un triángulo es una conexión entre 3 vértices A, B y C donde: A está conectado con B, B está conectado con C, C está conectado con A ¿Cuántos triángulos tiene el grafo?\n",
    "\n",
    "def count_triangles(G):\n",
    "    triangles = 0\n",
    "    for node in G._graph.keys():\n",
    "        # Obtener vecinos salientes\n",
    "        neighbors = G.get_neighbors(node)\n",
    "        for neighbor in neighbors:\n",
    "            # Obtener vecinos salientes del vecino\n",
    "            neighbors2 = G.get_neighbors(neighbor)\n",
    "            for neighbor2 in neighbors2:\n",
    "                neighbors3 = G.get_neighbors(neighbor2)\n",
    "                if node in neighbors3:\n",
    "                    triangles += 1\n",
    "    return triangles\n",
    "        \n",
    "triangles = count_triangles(graph)\n",
    "print(\"Cantidad de triángulos:\", triangles)\n",
    "print(13391903 == triangles)"
   ]
  },
  {
   "cell_type": "markdown",
   "metadata": {},
   "source": [
    "5) Google inventó un algoritmo llamado PageRank que le permitía saber qué páginas\n",
    "eran más confiables según que tanto eran referenciadas. PageRank consiste en\n",
    "hacer muchos random walks a lo largo del grafo y contar cuántas veces aparece\n",
    "cada vértice. Los vértices que más aparecen son los de mayor PageRank. Calcule el\n",
    "PageRank de los vértices del grafo."
   ]
  },
  {
   "cell_type": "code",
   "execution_count": 7,
   "metadata": {},
   "outputs": [
    {
     "name": "stdout",
     "output_type": "stream",
     "text": [
      "PageRank de 0: 2.3801650064253323e-05\n",
      "PageRank de 11342: 2.4645120125299453e-05\n",
      "PageRank de 824020: 5.406970455209136e-06\n",
      "PageRank de 867923: 2.4969271697716982e-05\n",
      "PageRank de 891835: 2.4177868806261335e-05\n",
      "PageRank de 27469: 4.677551695307148e-06\n",
      "PageRank de 38716: 7.452091622504631e-06\n",
      "PageRank de 309564: 2.193159997530595e-06\n",
      "PageRank de 322178: 2.4915736386735816e-06\n",
      "PageRank de 387543: 2.4915736386735816e-06\n",
      "PageRank de 427436: 3.2568783380130368e-06\n",
      "PageRank de 538214: 1.7297393934150114e-06\n",
      "PageRank de 638706: 1.7999647097081614e-06\n",
      "PageRank de 645018: 1.931528105118069e-06\n",
      "PageRank de 835220: 5.059699816924727e-06\n",
      "PageRank de 856657: 2.1337631505237757e-06\n",
      "PageRank de 91807: 6.944422826557378e-07\n",
      "PageRank de 417728: 9.936232296595615e-05\n",
      "PageRank de 438493: 0.00022599630052464018\n",
      "PageRank de 500627: 4.986679423992149e-06\n",
      "PageRank de 535748: 4.702341602261881e-06\n",
      "PageRank de 695578: 6.983565793418842e-07\n",
      "PageRank de 136593: 3.1494558217399593e-06\n",
      "PageRank de 414038: 2.925878732050955e-06\n",
      "PageRank de 523684: 2.273744181476708e-06\n",
      "PageRank de 760842: 4.417125489225141e-06\n",
      "PageRank de 815602: 2.409162797524761e-06\n",
      "PageRank de 846213: 2.096680128627818e-06\n",
      "PageRank de 857527: 9.561738636845387e-06\n",
      "PageRank de 112028: 2.2499563828569322e-06\n",
      "PageRank de 235849: 2.22640784394427e-06\n",
      "PageRank de 302284: 2.22640784394427e-06\n",
      "PageRank de 451592: 2.22640784394427e-06\n",
      "PageRank de 693969: 3.024575030572076e-06\n",
      "PageRank de 1: 1.459105536525724e-06\n",
      "PageRank de 53051: 6.243220024960859e-06\n",
      "PageRank de 203402: 7.732711635091854e-06\n",
      "PageRank de 223236: 0.00022004501977716755\n",
      "PageRank de 276233: 6.02071532804071e-06\n",
      "PageRank de 552600: 5.9459238332779095e-06\n",
      "PageRank de 569212: 6.141910177937379e-06\n",
      "PageRank de 635575: 6.2054724994231146e-06\n",
      "PageRank de 748615: 6.157945287984735e-06\n",
      "PageRank de 862566: 6.052672914671895e-06\n",
      "PageRank de 893884: 6.113947309333195e-06\n",
      "PageRank de 164684: 1.2059494130241578e-06\n",
      "PageRank de 184896: 1.199147408585698e-06\n",
      "PageRank de 184984: 1.2948867415328885e-06\n",
      "PageRank de 240041: 3.1640114021132083e-06\n",
      "PageRank de 284930: 1.199147408585698e-06\n",
      "PageRank de 303045: 2.200610451683504e-06\n",
      "PageRank de 384341: 1.0395839354515245e-06\n",
      "PageRank de 408707: 9.489862468243964e-07\n",
      "PageRank de 436135: 2.4245598399901503e-06\n",
      "PageRank de 449352: 1.199147408585698e-06\n",
      "PageRank de 532018: 6.930325790260055e-07\n",
      "PageRank de 539143: 1.580121451467457e-06\n",
      "PageRank de 573555: 1.0512299174086788e-06\n",
      "PageRank de 604413: 1.199147408585698e-06\n",
      "PageRank de 648208: 1.3110726780717503e-06\n",
      "PageRank de 773119: 2.3415292198075194e-06\n",
      "PageRank de 789543: 1.756140574382191e-06\n",
      "PageRank de 792151: 1.0769426186707684e-06\n",
      "PageRank de 824625: 8.372287832534853e-07\n",
      "PageRank de 838771: 1.6099874271543303e-06\n",
      "PageRank de 8517: 1.5002933746006322e-05\n",
      "PageRank de 14456: 1.6085312887202874e-05\n",
      "PageRank de 51573: 1.9559253604796133e-05\n",
      "PageRank de 150176: 3.549127922493966e-05\n",
      "PageRank de 187770: 1.4814633724432264e-05\n",
      "PageRank de 189348: 2.4093587547179954e-05\n",
      "PageRank de 202191: 9.821812509928924e-06\n",
      "PageRank de 225530: 1.5227923718120011e-05\n",
      "PageRank de 334309: 1.489069563928912e-05\n",
      "PageRank de 421091: 1.526748595707333e-05\n",
      "PageRank de 425667: 1.5162939940300335e-05\n",
      "PageRank de 484795: 3.013544609196695e-05\n",
      "PageRank de 521022: 1.0620420828619712e-05\n",
      "PageRank de 522701: 1.140069592586885e-05\n",
      "PageRank de 578091: 1.5301521848048753e-05\n",
      "PageRank de 610457: 1.4755632640281763e-05\n",
      "PageRank de 614906: 7.974949801967748e-06\n",
      "PageRank de 674265: 8.242481620847761e-06\n",
      "PageRank de 777734: 1.4711847380217861e-05\n",
      "PageRank de 799858: 1.5752340210945483e-05\n",
      "PageRank de 822292: 1.5171029887229624e-05\n",
      "PageRank de 867774: 8.183456180245821e-06\n",
      "PageRank de 907505: 1.5126066932538952e-05\n",
      "PageRank de 912757: 1.1162527102522926e-05\n",
      "PageRank de 208814: 1.5741669969351814e-06\n",
      "PageRank de 363925: 1.196494781979297e-06\n",
      "PageRank de 619841: 1.291029854782935e-06\n",
      "PageRank de 774614: 1.6389938518212092e-06\n",
      "PageRank de 792266: 8.098079399337132e-07\n",
      "PageRank de 33023: 4.397922219858203e-07\n",
      "PageRank de 69209: 4.6660295044573363e-07\n",
      "PageRank de 426314: 5.539418119038312e-07\n",
      "PageRank de 435399: 6.426409637359231e-07\n",
      "PageRank de 448933: 6.625717245627882e-07\n",
      "PageRank de 460573: 5.130463247491837e-07\n"
     ]
    }
   ],
   "source": [
    "# 5) Google inventó un algoritmo llamado PageRank que le permitía saber qué páginas\n",
    "# eran más confiables según que tanto eran referenciadas. PageRank consiste en\n",
    "# hacer muchos random walks a lo largo del grafo y contar cuántas veces aparece\n",
    "# cada vértice. Los vértices que más aparecen son los de mayor PageRank. Calcule el\n",
    "# PageRank de los vértices del grafo.\n",
    "def pagerank(graph, num_iterations=100, damping_factor=0.85):\n",
    "    # Inicializar el PageRank de cada vértice recordar que es un grafo dirigido\n",
    "    pagerank = {vertex: 1 / len(graph._graph) for vertex in graph._graph}\n",
    "    num_vertices = len(graph._graph)\n",
    "    for _ in range(num_iterations):\n",
    "        new_pagerank = {vertex: (1 - damping_factor) / num_vertices for vertex in graph._graph}\n",
    "        for vertex in graph._graph:\n",
    "            neighbors = graph.get_neighbors(vertex)\n",
    "            for neighbor in neighbors:\n",
    "                new_pagerank[neighbor] += damping_factor * pagerank[vertex] / len(neighbors)\n",
    "        pagerank = new_pagerank\n",
    "    return pagerank\n",
    "\n",
    "\n",
    "\n",
    "\n",
    "pagerank = pagerank(graph, 100)\n",
    "\n",
    "n = 0\n",
    "for vertex in pagerank:\n",
    "    n += 1\n",
    "    if n > 100:\n",
    "        break\n",
    "    print(f\"PageRank de {vertex}: {pagerank[vertex]}\")"
   ]
  },
  {
   "cell_type": "markdown",
   "metadata": {},
   "source": [
    "6) La circunferencia del grafo es el largo del ciclo más largo. ¿Cuál es la circunferencia del grafo?"
   ]
  },
  {
   "cell_type": "code",
   "execution_count": null,
   "metadata": {},
   "outputs": [],
   "source": [
    "# 6) La circunferencia del grafo es el largo del ciclo más largo. ¿Cuál es la circunferencia del grafo?\n",
    "\n",
    "def bfs(graph, start_vertex):\n",
    "    visited = {vertex: False for vertex in graph._graph}\n",
    "    queue = [start_vertex]\n",
    "    visited[start_vertex] = True\n",
    "    while queue:\n",
    "        vertex = queue.pop(0)\n",
    "        for neighbor in graph.get_neighbors(vertex):\n",
    "            if not visited[neighbor]:\n",
    "                visited[neighbor] = True\n",
    "                queue.append(neighbor)\n",
    "    return sum(visited.values())\n",
    "\n",
    "def graph_circumference(graph):\n",
    "    max_circumference = 0\n",
    "    for vertex in graph._graph:\n",
    "        max_circumference = max(max_circumference, bfs(graph, vertex))\n",
    "    return max_circumference"
   ]
  }
 ],
 "metadata": {
  "kernelspec": {
   "display_name": "Python 3",
   "language": "python",
   "name": "python3"
  },
  "language_info": {
   "codemirror_mode": {
    "name": "ipython",
    "version": 3
   },
   "file_extension": ".py",
   "mimetype": "text/x-python",
   "name": "python",
   "nbconvert_exporter": "python",
   "pygments_lexer": "ipython3",
   "version": "3.10.11"
  }
 },
 "nbformat": 4,
 "nbformat_minor": 2
}
