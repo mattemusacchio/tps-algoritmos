{
 "cells": [
  {
   "cell_type": "code",
   "execution_count": null,
   "metadata": {},
   "outputs": [],
   "source": [
    "import pickle\n",
    "from graph import Graph\n",
    "from tqdm import tqdm\n",
    "\n",
    "\"\"\"\n",
    "Lista de productos\n",
    "\n",
    "Ejemplo de producto:\n",
    "{'id': 2,\n",
    " 'title': 'Candlemas: Feast of Flames',\n",
    " 'group': 'Book',\n",
    " 'categories': ['Books[283155]->Subjects[1000]->Religion & Spirituality[22]->Earth-Based Religions[12472]->Wicca[12484]',\n",
    "  'Books[283155]->Subjects[1000]->Religion & Spirituality[22]->Earth-Based Religions[12472]->Witchcraft[12486]'],\n",
    " 'reviewers': [('A11NCO6YTE4BTJ', 5),\n",
    "  ('A9CQ3PLRNIR83', 4),\n",
    "  ('A13SG9ACZ9O5IM', 5),\n",
    "  ('A1BDAI6VEYMAZA', 5),\n",
    "  ('A2P6KAWXJ16234', 4),\n",
    "  ('AMACWC3M7PQFR', 4),\n",
    "  ('A3GO7UV9XX14D8', 4),\n",
    "  ('A1GIL64QK68WKL', 5),\n",
    "  ('AEOBOF2ONQJWV', 5),\n",
    "  ('A3IGHTES8ME05L', 5),\n",
    "  ('A1CP26N8RHYVVO', 1),\n",
    "  ('ANEIANH0WAT9D', 5)]}\n",
    "\"\"\"\n",
    "with open('products.pickle', 'rb') as file:\n",
    "    products = pickle.load(file)\n",
    "\n",
    "grafo = Graph()\n",
    "\n",
    "print(\"Loading\")\n",
    "for p in tqdm(products):\n",
    "    grafo.add_vertex(str(p[\"id\"]), data={'title': p['title'],\n",
    "                                         'group': p['group'],\n",
    "                                         'categories': p['categories']})\n",
    "    for reviewer, score in p['reviewers']:\n",
    "        if not grafo.vertex_exists(reviewer):\n",
    "            grafo.add_vertex(reviewer)\n",
    "        grafo.add_edge(reviewer, str(p[\"id\"]), score)\n",
    "        grafo.add_edge(str(p[\"id\"]), reviewer, score)"
   ]
  }
 ],
 "metadata": {
  "kernelspec": {
   "display_name": "Python 3",
   "language": "python",
   "name": "python3"
  },
  "language_info": {
   "name": "python",
   "version": "3.10.11"
  }
 },
 "nbformat": 4,
 "nbformat_minor": 2
}
